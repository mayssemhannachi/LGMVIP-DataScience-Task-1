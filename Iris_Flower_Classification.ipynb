{
 "cells": [
  {
   "cell_type": "markdown",
   "metadata": {},
   "source": [
    "# Project Name - Iris Flower Classification - lgmvip task1\n"
   ]
  },
  {
   "cell_type": "markdown",
   "metadata": {},
   "source": [
    "### Project Summary\n",
    "\n",
    "#### Project Overview:\n",
    "The Iris Flower Classification project aims to develop a machine learning model capable of accurately classifying iris flowers into their respective species based on specific measurements. The three species—setosa, versicolor, and virginica—each have unique measurement characteristics.\n",
    "\n",
    "#### Objective:\n",
    "The main objective is to utilize machine learning techniques to create a model that can reliably determine the species of an iris flower based on its measurements. This model will automate the classification process, providing an efficient method for identifying iris species.\n",
    "\n",
    "#### Key Project Details:\n",
    "- The project deals with three iris species: setosa, versicolor, and virginica.\n",
    "- These species are distinguishable through measurements like sepal length, sepal width, petal length, and petal width.\n",
    "- A machine learning model will be trained using a dataset that includes these measurements along with their corresponding species.\n",
    "- The trained model will then be used to classify iris flowers into one of the three species based on the given measurements."
   ]
  },
  {
   "cell_type": "markdown",
   "metadata": {},
   "source": [
    "# 1. Know the data"
   ]
  },
  {
   "cell_type": "code",
   "execution_count": 1,
   "metadata": {},
   "outputs": [],
   "source": [
    "# Import Libraries\n",
    "# Importing Numpy & Pandas for data processing & data wrangling\n",
    "import numpy as np\n",
    "import pandas as pd\n",
    "from sklearn.datasets import load_iris"
   ]
  },
  {
   "cell_type": "code",
   "execution_count": 2,
   "metadata": {},
   "outputs": [],
   "source": [
    "# Load the Iris dataset\n",
    "iris = load_iris()\n",
    "df = pd.DataFrame(data=iris.data, columns=iris.feature_names)\n",
    "df['species'] = iris.target"
   ]
  },
  {
   "cell_type": "code",
   "execution_count": 3,
   "metadata": {},
   "outputs": [
    {
     "name": "stdout",
     "output_type": "stream",
     "text": [
      "   sepal length (cm)  sepal width (cm)  petal length (cm)  petal width (cm)  \\\n",
      "0                5.1               3.5                1.4               0.2   \n",
      "1                4.9               3.0                1.4               0.2   \n",
      "2                4.7               3.2                1.3               0.2   \n",
      "3                4.6               3.1                1.5               0.2   \n",
      "4                5.0               3.6                1.4               0.2   \n",
      "\n",
      "   species  \n",
      "0        0  \n",
      "1        0  \n",
      "2        0  \n",
      "3        0  \n",
      "4        0  \n"
     ]
    }
   ],
   "source": [
    "# Inspect the dataset\n",
    "print(df.head())"
   ]
  },
  {
   "cell_type": "code",
   "execution_count": 7,
   "metadata": {},
   "outputs": [
    {
     "name": "stdout",
     "output_type": "stream",
     "text": [
      "Number of rows are:  150\n",
      "Number of columns are:  5\n"
     ]
    }
   ],
   "source": [
    "# Dataset Rows & Columns count\n",
    "# Checking number of rows and columns of the dataset using shape\n",
    "print(\"Number of rows are: \",df.shape[0])\n",
    "print(\"Number of columns are: \",df.shape[1])"
   ]
  },
  {
   "cell_type": "code",
   "execution_count": 4,
   "metadata": {},
   "outputs": [
    {
     "name": "stdout",
     "output_type": "stream",
     "text": [
      "<class 'pandas.core.frame.DataFrame'>\n",
      "RangeIndex: 150 entries, 0 to 149\n",
      "Data columns (total 5 columns):\n",
      " #   Column             Non-Null Count  Dtype  \n",
      "---  ------             --------------  -----  \n",
      " 0   sepal length (cm)  150 non-null    float64\n",
      " 1   sepal width (cm)   150 non-null    float64\n",
      " 2   petal length (cm)  150 non-null    float64\n",
      " 3   petal width (cm)   150 non-null    float64\n",
      " 4   species            150 non-null    int64  \n",
      "dtypes: float64(4), int64(1)\n",
      "memory usage: 6.0 KB\n",
      "None\n"
     ]
    }
   ],
   "source": [
    "print(df.info())"
   ]
  },
  {
   "cell_type": "markdown",
   "metadata": {},
   "source": [
    "The output of df.info() shows that the dataset has 150 entries with no missing values. The dataset contains 5 columns: sepal length (cm), sepal width (cm), petal length (cm), petal width (cm), and species."
   ]
  },
  {
   "cell_type": "code",
   "execution_count": 5,
   "metadata": {},
   "outputs": [
    {
     "name": "stdout",
     "output_type": "stream",
     "text": [
      "       sepal length (cm)  sepal width (cm)  petal length (cm)  \\\n",
      "count         150.000000        150.000000         150.000000   \n",
      "mean            5.843333          3.057333           3.758000   \n",
      "std             0.828066          0.435866           1.765298   \n",
      "min             4.300000          2.000000           1.000000   \n",
      "25%             5.100000          2.800000           1.600000   \n",
      "50%             5.800000          3.000000           4.350000   \n",
      "75%             6.400000          3.300000           5.100000   \n",
      "max             7.900000          4.400000           6.900000   \n",
      "\n",
      "       petal width (cm)     species  \n",
      "count        150.000000  150.000000  \n",
      "mean           1.199333    1.000000  \n",
      "std            0.762238    0.819232  \n",
      "min            0.100000    0.000000  \n",
      "25%            0.300000    0.000000  \n",
      "50%            1.300000    1.000000  \n",
      "75%            1.800000    2.000000  \n",
      "max            2.500000    2.000000  \n"
     ]
    }
   ],
   "source": [
    "print(df.describe())"
   ]
  },
  {
   "cell_type": "code",
   "execution_count": 6,
   "metadata": {},
   "outputs": [
    {
     "name": "stdout",
     "output_type": "stream",
     "text": [
      "sepal length (cm)    0\n",
      "sepal width (cm)     0\n",
      "petal length (cm)    0\n",
      "petal width (cm)     0\n",
      "species              0\n",
      "dtype: int64\n"
     ]
    }
   ],
   "source": [
    "# Check for missing values\n",
    "print(df.isnull().sum())"
   ]
  },
  {
   "cell_type": "markdown",
   "metadata": {},
   "source": [
    "Great! The output confirms that there are no missing values in the dataset. Let's proceed with the next steps."
   ]
  },
  {
   "cell_type": "markdown",
   "metadata": {},
   "source": [
    "## Dataset Overview\n",
    "### Structure of the Dataset:\n",
    "\n",
    "The dataset contains 150 entries (rows) and 5 columns.\n",
    "The columns are:\n",
    "sepal length (cm)\n",
    "sepal width (cm)\n",
    "petal length (cm)\n",
    "petal width (cm)\n",
    "species\n",
    "### Data Types:\n",
    "\n",
    "The features (sepal length (cm), sepal width (cm), petal length (cm), petal width (cm)) are of type float64.\n",
    "The target variable (species) is of type int64.\n",
    "### Missing Values:\n",
    "\n",
    "There are no missing values in the dataset.\n",
    "### Descriptive Statistics:\n",
    "#### Sepal Length:\n",
    "Mean: 5.84 cm\n",
    "Standard Deviation: 0.83 cm\n",
    "Minimum: 4.3 cm\n",
    "Maximum: 7.9 cm\n",
    "#### Sepal Width:\n",
    "Mean: 3.06 cm\n",
    "Standard Deviation: 0.44 cm\n",
    "Minimum: 2.0 cm\n",
    "Maximum: 4.4 cm\n",
    "#### Petal Length:\n",
    "Mean: 3.76 cm\n",
    "Standard Deviation: 1.77 cm\n",
    "Minimum: 1.0 cm\n",
    "Maximum: 6.9 cm\n",
    "#### Petal Width:\n",
    "Mean: 1.20 cm\n",
    "Standard Deviation: 0.76 cm\n",
    "Minimum: 0.1 cm\n",
    "Maximum: 2.5 cm\n",
    "#### Species:\n",
    "The target variable is encoded as integers (0, 1, 2), representing the three species of iris flowers."
   ]
  }
 ],
 "metadata": {
  "kernelspec": {
   "display_name": "iris_env",
   "language": "python",
   "name": "python3"
  },
  "language_info": {
   "codemirror_mode": {
    "name": "ipython",
    "version": 3
   },
   "file_extension": ".py",
   "mimetype": "text/x-python",
   "name": "python",
   "nbconvert_exporter": "python",
   "pygments_lexer": "ipython3",
   "version": "3.11.9"
  }
 },
 "nbformat": 4,
 "nbformat_minor": 2
}
